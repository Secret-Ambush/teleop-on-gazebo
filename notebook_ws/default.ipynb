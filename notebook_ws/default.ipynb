{
 "cells": [
  {
   "cell_type": "markdown",
   "metadata": {},
   "source": [
    "# `teleop_twist_keyboard.py` - ROS Teleoperation Script\n",
    "\n",
    "The `teleop_twist_keyboard.py` script is a Python-based teleoperation node for controlling a robot's motion using keyboard input. It is typically used in ROS (Robot Operating System) environments to control mobile robots, such as TurtleBot3, in a Gazebo simulation or real-world application.\n",
    "\n",
    "## Usage\n",
    "\n",
    "The script allows you to control the robot's linear and angular velocities using the following keyboard commands:\n",
    "\n",
    "- `i`: Move forward.\n",
    "- `o`: Move forward and rotate counterclockwise.\n",
    "- `j`: Rotate counterclockwise.\n",
    "- `l`: Rotate clockwise.\n",
    "- `u`: Move forward and rotate clockwise.\n",
    "- `,`: Move backward.\n",
    "- `.`: Move backward and rotate counterclockwise.\n",
    "- `m`: Move backward and rotate clockwise.\n",
    "- `O`: Move diagonally forward-right.\n",
    "- `I`: Move forward-right.\n",
    "- `J`: Move diagonally forward-left.\n",
    "- `L`: Move diagonally forward-right.\n",
    "- `U`: Move diagonally forward-right.\n",
    "- `<`: Move diagonally backward-left.\n",
    "- `>`: Move diagonally backward-right.\n",
    "- `M`: Move diagonally backward-right.\n",
    "- `t`: Move up (in the z-axis).\n",
    "- `b`: Move down (in the z-axis).\n",
    "\n",
    "Other keyboard commands allow you to adjust the robot's speed:\n",
    "\n",
    "- `q`: Increase both linear and angular speeds by 10%.\n",
    "- `z`: Decrease both linear and angular speeds by 10%.\n",
    "- `w`: Increase only linear speed by 10%.\n",
    "- `x`: Decrease only linear speed by 10%.\n",
    "- `e`: Increase only angular speed by 10%.\n",
    "- `c`: Decrease only angular speed by 10%.\n",
    "\n",
    "Pressing any other key stops the robot.\n",
    "\n",
    "## Parameters\n",
    "\n",
    "The script accepts various parameters that can be configured for different robot setups:\n",
    "\n",
    "- `speed`: Initial linear speed of the robot.\n",
    "- `turn`: Initial angular speed of the robot.\n",
    "- `speed_limit`: Maximum linear speed allowed.\n",
    "- `turn_limit`: Maximum angular speed allowed.\n",
    "- `repeat_rate`: Rate at which the teleoperation commands are repeated. Set to 0 for continuous control.\n",
    "- `key_timeout`: Time limit for key presses.\n",
    "- `stamped`: Determines whether the output messages use the `TwistStamped` message format. Set to `True` for stamped messages.\n",
    "- `frame_id`: Frame ID for stamped messages.\n",
    "\n",
    "## Example Launch File\n",
    "\n",
    "To use this script with a TurtleBot3 robot in a Gazebo simulation, you can create a custom launch file. Here's an example launch file:\n",
    "\n",
    "```xml\n",
    "<launch>\n",
    "  <!-- Launch the teleop_twist_keyboard node -->\n",
    "  <node pkg=\"teleop_twist_keyboard\" type=\"teleop_twist_keyboard.py\" name=\"teleop_twist_keyboard\" output=\"screen\">\n",
    "    <!-- Specify parameters here as needed -->\n",
    "    <param name=\"speed\" type=\"double\" value=\"0.5\" />\n",
    "    <param name=\"turn\" type=\"double\" value=\"1.0\" />\n",
    "    <!-- Add other parameters as required -->\n",
    "  </node>\n",
    "\n",
    "  <!-- Add TurtleBot3 Gazebo simulation launch or bringup commands here -->\n",
    "</launch>\n",
    "```\n",
    "\n",
    "## References\n",
    "\n",
    "- ROS Wiki: [ROS Teleop Twist Keyboard](http://wiki.ros.org/teleop_twist_keyboard)"
   ]
  },
  {
   "cell_type": "code",
   "execution_count": 1,
   "metadata": {},
   "outputs": [
    {
     "name": "stdout",
     "output_type": "stream",
     "text": [
      "Hello from my ROSJect!\n"
     ]
    }
   ],
   "source": [
    "print 'Hello from my ROSJect!'"
   ]
  }
 ],
 "metadata": {
  "kernelspec": {
   "display_name": "Python 2",
   "language": "python",
   "name": "python2"
  },
  "language_info": {
   "codemirror_mode": {
    "name": "ipython",
    "version": 2
   },
   "file_extension": ".py",
   "mimetype": "text/x-python",
   "name": "python",
   "nbconvert_exporter": "python",
   "pygments_lexer": "ipython2",
   "version": "2.7.16"
  }
 },
 "nbformat": 4,
 "nbformat_minor": 1
}
